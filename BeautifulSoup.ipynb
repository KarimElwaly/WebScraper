{
 "cells": [
  {
   "cell_type": "code",
   "execution_count": 1,
   "id": "1145b255",
   "metadata": {
    "ExecuteTime": {
     "end_time": "2023-01-08T11:02:37.882449Z",
     "start_time": "2023-01-08T11:02:37.755386Z"
    },
    "hide_input": false
   },
   "outputs": [],
   "source": [
    "import requests\n",
    "from bs4 import BeautifulSoup\n",
    "import csv"
   ]
  },
  {
   "cell_type": "code",
   "execution_count": 47,
   "id": "3d79887e",
   "metadata": {
    "ExecuteTime": {
     "end_time": "2023-01-08T12:46:28.177518Z",
     "start_time": "2023-01-08T12:46:15.587644Z"
    }
   },
   "outputs": [
    {
     "name": "stdout",
     "output_type": "stream",
     "text": [
      "Please Enter Date in Format MM/DD/YYYY: 11/23/2022\n",
      "file created\n"
     ]
    }
   ],
   "source": [
    "date = input('Please Enter Date in Format MM/DD/YYYY: ')\n",
    "page = requests.get(f'https://www.yallakora.com/Match-Center/?date={date}')\n",
    "\n",
    "def main(page):\n",
    "    \n",
    "    src = page.content\n",
    "    soup = BeautifulSoup(src, 'lxml')\n",
    "    matches_details = []\n",
    "    \n",
    "    championships = soup.find_all('div', {'class': 'matchCard'})\n",
    "    \n",
    "    def get_match_info(championships):\n",
    "        \n",
    "#         championship_title = championships.contents[1].find('h2').text.strip()\n",
    "#         print(championship_title)\n",
    "\n",
    "\n",
    "        championship_title = championships.find('div', {'class': 'title'}).find('h2').text.strip()\n",
    "        all_matches = championships.find_all('li')\n",
    "        no_of_matches = len(all_matches)\n",
    "\n",
    "        for i in range(no_of_matches):\n",
    "            \n",
    "            # get teams names\n",
    "            teamA = all_matches[i].find('div', {'class': 'teamA'}).text.strip()\n",
    "            teamB = all_matches[i].find('div', {'class': 'teamB'}).text.strip()\n",
    "            \n",
    "            # get match result \n",
    "            match_result = all_matches[i].find('div', {'class', 'MResult'}).find_all('span', {'class', 'score'})\n",
    "            score = f'{match_result[0].text.strip()} - {match_result[1].text.strip()}' \n",
    "            \n",
    "            # get match time\n",
    "            match_time = all_matches[i].find('div', {'class', 'MResult'}).find('span', {'class', 'time'}).text.strip()\n",
    "            \n",
    "            # add match info to matches_details\n",
    "            matches_details.append({'البطولة': championship_title, 'الفريق الأول': teamA, 'الفريق الثاني': teamB, 'ميعاد المبارة': match_time, 'النتيجة': score})\n",
    "    \n",
    "    # get all championships\n",
    "    for i in range(len(championships)):\n",
    "        get_match_info(championships[i])\n",
    "        \n",
    "    keys = matches_details[0].keys()\n",
    "    \n",
    "    # Save as csv file\n",
    "    with open ('Documents/matches.csv', 'w', encoding=\"utf-8\") as output:\n",
    "        dict_writer = csv.DictWriter(output, keys)\n",
    "        dict_writer.writeheader()\n",
    "        dict_writer.writerows(matches_details)\n",
    "        \n",
    "        print('file created')\n",
    "        \n",
    "main(page)"
   ]
  }
 ],
 "metadata": {
  "kernelspec": {
   "display_name": "Python 3 (ipykernel)",
   "language": "python",
   "name": "python3"
  },
  "language_info": {
   "codemirror_mode": {
    "name": "ipython",
    "version": 3
   },
   "file_extension": ".py",
   "mimetype": "text/x-python",
   "name": "python",
   "nbconvert_exporter": "python",
   "pygments_lexer": "ipython3",
   "version": "3.9.7"
  },
  "toc": {
   "base_numbering": 1,
   "nav_menu": {},
   "number_sections": true,
   "sideBar": true,
   "skip_h1_title": false,
   "title_cell": "Table of Contents",
   "title_sidebar": "Contents",
   "toc_cell": false,
   "toc_position": {},
   "toc_section_display": true,
   "toc_window_display": false
  },
  "varInspector": {
   "cols": {
    "lenName": 16,
    "lenType": 16,
    "lenVar": 40
   },
   "kernels_config": {
    "python": {
     "delete_cmd_postfix": "",
     "delete_cmd_prefix": "del ",
     "library": "var_list.py",
     "varRefreshCmd": "print(var_dic_list())"
    },
    "r": {
     "delete_cmd_postfix": ") ",
     "delete_cmd_prefix": "rm(",
     "library": "var_list.r",
     "varRefreshCmd": "cat(var_dic_list()) "
    }
   },
   "types_to_exclude": [
    "module",
    "function",
    "builtin_function_or_method",
    "instance",
    "_Feature"
   ],
   "window_display": false
  }
 },
 "nbformat": 4,
 "nbformat_minor": 5
}
